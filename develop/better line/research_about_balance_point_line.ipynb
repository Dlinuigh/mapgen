{
 "cells": [
  {
   "cell_type": "code",
   "execution_count": 15,
   "metadata": {},
   "outputs": [],
   "source": [
    "from PIL import Image\n",
    "import numpy as np"
   ]
  },
  {
   "cell_type": "code",
   "execution_count": 16,
   "metadata": {},
   "outputs": [],
   "source": [
    "x = np.arange(0,32,1) # 绘制这个范围内的直线，使用几个极端的斜率例子：15、75、45度\n",
    "rate = [\n",
    "  {'degree':'15', 'rad':np.deg2rad(15), 'color': 'blue', 'code': (0,0,255)},\n",
    "  {'degree':'45', 'rad':np.deg2rad(45), 'color': 'red', 'code': (255,0,0)},\n",
    "  {'degree':'75', 'rad':np.deg2rad(75), 'color': 'green', 'code': (0,255,0)},\n",
    "] # 经过原点的直线"
   ]
  },
  {
   "cell_type": "code",
   "execution_count": 17,
   "metadata": {},
   "outputs": [],
   "source": [
    "def uniform_draw_line():\n",
    "  w,h=32,32\n",
    "  image = Image.new('RGB', (w, h), color='white')\n",
    "  pixels = image.load()\n",
    "  for k in rate:\n",
    "    y = x*np.tan(k['rad'])\n",
    "    for tx,ty in zip(x,y):\n",
    "      if 0<=tx<w and 0<=ty<h:\n",
    "        pixels[tx,h-ty-1] = k['code']\n",
    "  image.save('uniform.png')\n",
    "uniform_draw_line()"
   ]
  },
  {
   "cell_type": "markdown",
   "metadata": {},
   "source": [
    "<!-- ![picture](uniform.png) -->\n",
    "<img src=\"uniform.png\" alt=\"示例图片\" width=\"300\" height=\"300\">\n",
    "\n",
    "上面的图片主要反映问题就是直线的绘制过程使用等距取样会导致的问题,在一个相同的区间内跨度大的就会更好看,而其他的就挤到一起了."
   ]
  },
  {
   "cell_type": "code",
   "execution_count": 19,
   "metadata": {},
   "outputs": [],
   "source": [
    "def uniform_y_draw_line():\n",
    "  w,h=32,32\n",
    "  image = Image.new('RGB', (w, h), color='white')\n",
    "  pixels = image.load()\n",
    "  for k in rate:\n",
    "    y = np.arange(x[0]*k['rad'], x[-1]*k['rad'],1)\n",
    "    tmp_x = y/k['rad']\n",
    "    for tx,ty in zip(tmp_x,y):\n",
    "      if 0<=tx<w and 0<=ty<h:\n",
    "        pixels[tx,h-ty-1] = k['code']\n",
    "  image.save('uniform_y.png')\n",
    "uniform_y_draw_line()"
   ]
  },
  {
   "cell_type": "markdown",
   "metadata": {},
   "source": [
    "<img src=\"uniform_y.png\" alt=\"示例图片\" width=\"300\" height=\"300\">\n",
    "\n",
    "上面是y轴的版本，这样的处理只需要作两个轴的版本就能够满足大多数需求。当斜率大于45度就用y，小于用x，此时直线的点的信息是最丰富的。"
   ]
  },
  {
   "cell_type": "markdown",
   "metadata": {},
   "source": [
    "我想提出的方法是通过等距角度的处理摆除斜率的影响。"
   ]
  },
  {
   "cell_type": "code",
   "execution_count": null,
   "metadata": {},
   "outputs": [],
   "source": [
    "def uniform_deg_draw_line():\n",
    "  # TODO 这个目测会比较麻烦，涉及到角度转换，下面已经很好用了，我估计直接用下面方法\n",
    "  w,h=32,32\n",
    "  image = Image.new('RGB', (w, h), color='white')\n",
    "  pixels = image.load()\n",
    "  for k in rate:\n",
    "    y = np.arange(x[0]*k['rad'], x[-1]*k['rad'],1)\n",
    "    tmp_x = y/k['rad']\n",
    "    for tx,ty in zip(tmp_x,y):\n",
    "      if 0<=tx<w and 0<=ty<h:\n",
    "        pixels[tx,h-ty-1] = k['code']\n",
    "  image.save('uniform_deg.png')\n",
    "uniform_deg_draw_line()"
   ]
  },
  {
   "cell_type": "code",
   "execution_count": 51,
   "metadata": {},
   "outputs": [],
   "source": [
    "def uniform_45_draw_line():\n",
    "  w,h=32,32\n",
    "  image = Image.new('RGB', (w, h), color='white')\n",
    "  pixels = image.load()\n",
    "  for k in rate:\n",
    "    step = 1/np.sqrt(1+k['rad']**2)\n",
    "    tmp_x = np.arange(x[0], x[-1],step)\n",
    "    y = np.astype(tmp_x*k['rad'], int)\n",
    "    tmp_x = np.astype(tmp_x,int)\n",
    "    t1_x,t1_y,t2_x,t2_y=0,0,0,0\n",
    "    cnt = 0\n",
    "    for tx,ty in zip(tmp_x,y):\n",
    "      if cnt ==0:\n",
    "        pixels[tx,h-ty-1] = k['code']\n",
    "        cnt =1\n",
    "        t2_x,t2_y = tx,ty\n",
    "      if 0<=tx<w and 0<=ty<h and not \\\n",
    "      (t1_y==t2_y and t2_x==tx \\\n",
    "        or t1_x==t2_x and t2_y==ty):\n",
    "        pixels[t2_x,h-t2_y-1] = k['code']\n",
    "        t1_x,t1_y = t2_x,t2_y\n",
    "        t2_x,t2_y = tx,ty\n",
    "      elif (t1_y==t2_y and t2_x==tx \\\n",
    "        or t1_x==t2_x and t2_y==ty):\n",
    "        t2_x,t2_y = tx,ty\n",
    "    # pixels[tx,h-ty-1] = k['code']\n",
    "  image.save('uniform_45.png')\n",
    "uniform_45_draw_line()"
   ]
  },
  {
   "cell_type": "markdown",
   "metadata": {},
   "source": [
    "上面的方法可以保证连续、宽度为1,取点线段上均匀取点，可用"
   ]
  },
  {
   "cell_type": "code",
   "execution_count": null,
   "metadata": {},
   "outputs": [],
   "source": []
  }
 ],
 "metadata": {
  "kernelspec": {
   "display_name": "Python 3",
   "language": "python",
   "name": "python3"
  },
  "language_info": {
   "codemirror_mode": {
    "name": "ipython",
    "version": 3
   },
   "file_extension": ".py",
   "mimetype": "text/x-python",
   "name": "python",
   "nbconvert_exporter": "python",
   "pygments_lexer": "ipython3",
   "version": "3.12.4"
  }
 },
 "nbformat": 4,
 "nbformat_minor": 2
}
